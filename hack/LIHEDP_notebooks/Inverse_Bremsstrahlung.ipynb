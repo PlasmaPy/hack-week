{
 "cells": [
  {
   "cell_type": "code",
   "execution_count": 1,
   "metadata": {},
   "outputs": [],
   "source": [
    "import numpy as np\n",
    "from scipy import constants as sc"
   ]
  },
  {
   "cell_type": "markdown",
   "metadata": {},
   "source": [
    "equation (5.15), page 104\n",
    "\n",
    "\\begin{equation} \n",
    "K_{ff} = 8 \\sqrt{\\pi} \\left( \\frac{e^2}{4 \\pi \\epsilon_0} \\right)^3 \\frac{4}{3 c^3} \\frac{Z_i^2}{m_0^2} n_e n_{Z_i} \\left( \\frac{m_0}{2 k_B T} \\right)^{1/2} \\frac{\\pi^2 c^2}{\\hbar \\omega^3} \\left( 1 - \\exp \\left( - \\frac{\\hbar \\omega}{k_B T} \\right) \\right) \n",
    "\\end{equation}"
   ]
  },
  {
   "cell_type": "markdown",
   "metadata": {},
   "source": [
    "exercise 5.8, page 112\n",
    "\n",
    "\\begin{equation}\n",
    "K_{ff} = 2.7 \\times 10^{-50} \\frac{\\lambda^2 n_e n_{Z_i} Z_i^2}{(k_B T)^{3/2}} \\text{ m}^{-1}\n",
    "\\end{equation}"
   ]
  },
  {
   "cell_type": "markdown",
   "metadata": {},
   "source": [
    "equation (5.15), with $h \\nu \\ll k_B T$, becomes:"
   ]
  },
  {
   "cell_type": "markdown",
   "metadata": {},
   "source": [
    "\\begin{equation}\n",
    "k_{ff} = \\frac{8 \\sqrt{\\pi}}{3 \\sqrt{2}} \\left( \\frac{e^2}{4 \\pi \\epsilon_0} \\right)^3 \\frac{1}{m_0^{3/2} c^{3}} \\frac{\\lambda^2 n_e n_{Z_i} Z_i^2}{(k_B T)^{3/2}}\n",
    "\\end{equation}"
   ]
  },
  {
   "cell_type": "code",
   "execution_count": 6,
   "metadata": {},
   "outputs": [
    {
     "data": {
      "text/plain": [
       "2.731832444805521e-47"
      ]
     },
     "execution_count": 6,
     "metadata": {},
     "output_type": "execute_result"
    }
   ],
   "source": [
    "8*np.sqrt(np.pi)/(3*np.sqrt(2)) * (sc.e**2/(4*np.pi*sc.epsilon_0))**3 * (1/((sc.m_e**(3/2)*sc.c**3))) * (1e-12 / (sc.e**(3/2)))\n"
   ]
  },
  {
   "cell_type": "code",
   "execution_count": null,
   "metadata": {},
   "outputs": [],
   "source": []
  }
 ],
 "metadata": {
  "kernelspec": {
   "display_name": "Python 3",
   "language": "python",
   "name": "python3"
  },
  "language_info": {
   "codemirror_mode": {
    "name": "ipython",
    "version": 3
   },
   "file_extension": ".py",
   "mimetype": "text/x-python",
   "name": "python",
   "nbconvert_exporter": "python",
   "pygments_lexer": "ipython3",
   "version": "3.8.10"
  }
 },
 "nbformat": 4,
 "nbformat_minor": 4
}
