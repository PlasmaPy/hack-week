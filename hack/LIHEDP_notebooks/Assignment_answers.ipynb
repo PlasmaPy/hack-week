{
 "cells": [
  {
   "cell_type": "markdown",
   "metadata": {
    "heading_collapsed": true
   },
   "source": [
    "#### <span style=\"color:GoldenRod \"> Import modules </span>"
   ]
  },
  {
   "cell_type": "code",
   "execution_count": 1,
   "metadata": {
    "hidden": true
   },
   "outputs": [],
   "source": [
    "import numpy as np\n",
    "from sympy.solvers import solve\n",
    "from sympy import Symbol\n",
    "from scipy import constants as sc\n",
    "from matplotlib import pyplot as plt\n",
    "from scipy.optimize import fsolve"
   ]
  },
  {
   "cell_type": "code",
   "execution_count": 2,
   "metadata": {
    "hidden": true
   },
   "outputs": [],
   "source": [
    "def sciprint(a):\n",
    "    print(f\"{a:0.2g}\")"
   ]
  },
  {
   "cell_type": "markdown",
   "metadata": {},
   "source": [
    "#### Given Information"
   ]
  },
  {
   "cell_type": "markdown",
   "metadata": {},
   "source": [
    "$$\n",
    "n = 1.2 \\times 10^6 \\sqrt{ \\frac{Y}{<\\sigma v> V_{hs} \\tau} }\n",
    "$$\n",
    "\n",
    "This formula gives the density in $m^{-3}$.\n",
    "\n",
    "Where $Y$ is the fusion yield in J. \n",
    "\n",
    "$<\\sigma v>$ is the fusion reaction rate in m$^3$.s$^{-1}$\n",
    "\n",
    "$V_{hs}$ is the volume of the hot-spot m$^3$.\n",
    "\n",
    "$\\tau$ is the burn duration."
   ]
  },
  {
   "cell_type": "markdown",
   "metadata": {},
   "source": [
    "We give, based on: https://scitechdaily.com/national-ignition-facility-breakthrough-experiment-puts-researchers-at-threshold-of-fusion-ignition/\n",
    "\n",
    "$Y = 1.3 \\text{ MJ}$\n",
    "\n",
    "$V_{hs}$ : \"a hot-spot the diameter of a human hair\"\n",
    "\n",
    "$\\tau$: \"for 100 trillionths of a second\", where we understand a trillion as $10^{12}$\n",
    "\n",
    "We give, based on: https://www.nature.com/articles/s41586-021-04281-w\n",
    "\n",
    "$<\\sigma v> = 4.2 \\times 10^{20} T_i^{3.6}$ with $T_i$ in keV, and $<\\sigma v>$ in cm$^3$.s$^{-1}$.\n",
    "\n",
    "Finally, based on: https://aip.scitation.org/doi/10.1063/5.0003298\n",
    "\n",
    "It would seem that $T_i = 4.4 \\text{ keV}$ is a good bet."
   ]
  },
  {
   "cell_type": "markdown",
   "metadata": {},
   "source": [
    "#### Question 1 -  Evaluate the number density $n$ (be careful about units)"
   ]
  },
  {
   "cell_type": "code",
   "execution_count": 3,
   "metadata": {},
   "outputs": [],
   "source": [
    "Y = 1.3e6\n",
    "Ti = 4.4 #[keV]\n",
    "tau = 100*1e-12\n",
    "R_hair = (75/2)*1e-6\n",
    "V_hs = (4/3)*sc.pi*R_hair**3\n",
    "sigma_v = (4.2e-20*Ti**3.6) * 1e-6"
   ]
  },
  {
   "cell_type": "code",
   "execution_count": 4,
   "metadata": {},
   "outputs": [
    {
     "name": "stdout",
     "output_type": "stream",
     "text": [
      "9.9e+31\n"
     ]
    }
   ],
   "source": [
    "n = 1.2e6*np.sqrt(Y/(sigma_v*V_hs*tau))\n",
    "\n",
    "sciprint(n)"
   ]
  },
  {
   "cell_type": "markdown",
   "metadata": {},
   "source": [
    "$n = 9.9 \\times 10^{31} \\text{ m}^{-3}$"
   ]
  },
  {
   "cell_type": "markdown",
   "metadata": {},
   "source": [
    "#### Question 2 - In order to find the ionisation fraction, should we use the Thomas-Fermi model, or the Saha ionization equation?"
   ]
  },
  {
   "cell_type": "markdown",
   "metadata": {},
   "source": [
    "Thomas-Fermi, because we are outside of the density range where Saha's equation is valid."
   ]
  },
  {
   "cell_type": "markdown",
   "metadata": {},
   "source": [
    "#### Question 3 - Use both models to estimate the ionisation fraction."
   ]
  },
  {
   "cell_type": "markdown",
   "metadata": {},
   "source": [
    "##### a) For the Saha ionisation equation model, use the \"simple\" equation given in lecture 2 for x (in Saha_first_impressions.ipynb or Saha_first_impressions.html).  We give the ionisation energies of Deuterium (Ui_De = 15.4667) and Tritium (Ui_Te = 13.603). For the sake of simplicity, you can consider the ionisation fraction for a single virtual specie which would have the ionisation energy: Ui = (Ui_De+Ui_Te)/2."
   ]
  },
  {
   "cell_type": "markdown",
   "metadata": {},
   "source": [
    "$$ \\frac{x^2}{1-x} = 2.4 \\cdot 10^{21} \\frac{T^{3/2}}{n} e^{-U_i / k_B T}$$"
   ]
  },
  {
   "cell_type": "code",
   "execution_count": 6,
   "metadata": {
    "code_folding": [
     0,
     14
    ]
   },
   "outputs": [],
   "source": [
    "def rhs_Saha_Chen(n,T,Ui):\n",
    "    \"\"\"\n",
    "    Computes the right hand side of Saha's equation for a given temperature T\n",
    "    \n",
    "    n = density (nb.m^-3)\n",
    "    T = temperature (K)\n",
    "    Ui = Ionisation energy (J)\n",
    "    \"\"\"\n",
    "    rhs = 2.4*1e21*(T**(3/2)/n)*np.exp(-(Ui/(sc.k*T)))\n",
    "    return rhs\n",
    "\n",
    "#Assuming x > 0 forces the solver to return only positive solutions\n",
    "x = Symbol('x', positive=True) \n",
    "\n",
    "def solve_Saha(n,T,Ui):\n",
    "    \"\"\"\n",
    "    Computes the ionisation fraction x for a given temperature T\n",
    "    \n",
    "    n = density (nb.m^-3)\n",
    "    T = temperature (K)\n",
    "    Ui = Ionisation energy (J)\n",
    "    \"\"\"\n",
    "    #Note: sympy.solvers.solve struggles when rhs is large. So let's use two cases:\n",
    "    if (rhs_Saha_Chen(n,T,Ui) <= 1e2):\n",
    "        sol = solve((x**2/(1-x)) - rhs_Saha_Chen(n,T,Ui),x) \n",
    "    else:\n",
    "        sol = [1 - 1/rhs_Saha_Chen(n,T,Ui)] #for x->1, x²/(1-x)-> 1/(1-x)\n",
    "    if len(sol)==0:\n",
    "        sol = [np.nan]  #If there is no solution, returns a NaN rather than an empty array.\n",
    "    return sol"
   ]
  },
  {
   "cell_type": "code",
   "execution_count": 7,
   "metadata": {},
   "outputs": [],
   "source": [
    "Ui_De = 15.4667\n",
    "Ui_Te = 13.603\n",
    "\n",
    "Ui_DT = (Ui_De + Ui_Te)/2 * sc.eV\n",
    "\n",
    "T = Ti*1e3*sc.eV/sc.k"
   ]
  },
  {
   "cell_type": "code",
   "execution_count": 8,
   "metadata": {},
   "outputs": [
    {
     "data": {
      "text/plain": [
       "[0.906989765277499]"
      ]
     },
     "execution_count": 8,
     "metadata": {},
     "output_type": "execute_result"
    }
   ],
   "source": [
    "solve_Saha(n, T, Ui_DT)"
   ]
  },
  {
   "cell_type": "markdown",
   "metadata": {},
   "source": [
    "$x_{saha} = 0.907$"
   ]
  },
  {
   "cell_type": "markdown",
   "metadata": {},
   "source": [
    "##### b) For the Thomas-Fermi model, assume A = 2.5 and Z = 1 (equimolar mixture of deuterium and tritium)"
   ]
  },
  {
   "cell_type": "code",
   "execution_count": 9,
   "metadata": {
    "code_folding": [
     0
    ]
   },
   "outputs": [],
   "source": [
    "def Zav_TF(Z, A, rho, T):\n",
    "    \"\"\"\n",
    "    Finite Temperature Thomas Fermi Charge State using \n",
    "    R.M. More (1985), \"Pressure Ionization, Resonances, and the\n",
    "    Continuity of Bound and Free States\", Adv. in Atomic \n",
    "    Mol. Phys., Vol. 21, p. 332 (Table IV).\n",
    "    \n",
    "    Z = atomic number\n",
    "    rho = mass density (g/cc)\n",
    "    T = temperature (eV)\n",
    "    \"\"\"\n",
    "\n",
    "    alpha = 14.3139\n",
    "    beta = 0.6624\n",
    "    a1 = 0.003323\n",
    "    a2 = 0.9718\n",
    "    a3 = 9.26148e-5\n",
    "    a4 = 3.10165\n",
    "    b0 = -1.7630\n",
    "    b1 = 1.43175\n",
    "    b2 = 0.31546\n",
    "    c1 = -0.366667\n",
    "    c2 = 0.983333\n",
    "    \n",
    "    rho1 = rho/ A*Z\n",
    "    T1 = T/Z**(4./3.)\n",
    "    Tf = T1/(1 + T1)\n",
    "    Ac = a1*T1**a2 + a3*T1**a4\n",
    "    B = -np.exp(b0 + b1*Tf + b2*Tf**7)\n",
    "    C = c1*Tf + c2\n",
    "    Q1 = Ac*rho1**B\n",
    "    Q = (rho1**C + Q1**C)**(1/C)\n",
    "    x = alpha*Q**beta\n",
    "\n",
    "    return Z*x/(1 + x + np.sqrt(1 + 2.*x))"
   ]
  },
  {
   "cell_type": "code",
   "execution_count": 10,
   "metadata": {},
   "outputs": [],
   "source": [
    "A = 2.5\n",
    "Z = 1\n",
    "\n",
    "n = 9.867843498781554e33\n",
    "rho = A*sc.m_p*n *1e3*1e-6 #[g/cc]\n",
    "T = 4400 #Ti*1e3 #[eV]"
   ]
  },
  {
   "cell_type": "code",
   "execution_count": 11,
   "metadata": {},
   "outputs": [
    {
     "data": {
      "text/plain": [
       "41262.92843900966"
      ]
     },
     "execution_count": 11,
     "metadata": {},
     "output_type": "execute_result"
    }
   ],
   "source": [
    "rho"
   ]
  },
  {
   "cell_type": "code",
   "execution_count": 12,
   "metadata": {},
   "outputs": [
    {
     "data": {
      "text/plain": [
       "0.9865621266583642"
      ]
     },
     "execution_count": 12,
     "metadata": {},
     "output_type": "execute_result"
    }
   ],
   "source": [
    "Zav_TF(Z, A, rho, T)"
   ]
  },
  {
   "cell_type": "markdown",
   "metadata": {},
   "source": [
    "$x_{TF} = 0.992$"
   ]
  },
  {
   "cell_type": "markdown",
   "metadata": {},
   "source": [
    "##### c) Briefly comment your results"
   ]
  },
  {
   "cell_type": "markdown",
   "metadata": {},
   "source": [
    "We see that the Thomas-Fermi model ends up giving a stronger ionisation ratio than the Saha equation. This is because it takes the pressure ionisation into account."
   ]
  },
  {
   "cell_type": "markdown",
   "metadata": {},
   "source": [
    "#### 4) What would the wavelength $\\lambda$ of a laser need to be in order for it to be able to go through the plasma. Comment your result. "
   ]
  },
  {
   "cell_type": "markdown",
   "metadata": {},
   "source": [
    "$$\n",
    "n_C \\text{ [cm$^{-3}$]} = 1.1 \\times 10^{21} \\left( \\frac{1}{\\lambda \\text{ [µm]}} \\right)^2\n",
    "$$"
   ]
  },
  {
   "cell_type": "markdown",
   "metadata": {},
   "source": [
    "In order for the laser to go through a plasma with density $n_e \\sim 9.9 \\times 10^{31} \\text{ m}^{-3}$, it needs:\n",
    "\n",
    "$$\n",
    "\\lambda \\text{ [µm]} < \\sqrt{\\frac{1.1 \\times 10^{21}}{n_e \\text{ [cm$^{-3}$]}}}\n",
    "$$"
   ]
  },
  {
   "cell_type": "code",
   "execution_count": 13,
   "metadata": {},
   "outputs": [],
   "source": [
    "n = 1.2e6*np.sqrt(Y/(sigma_v*V_hs*tau))"
   ]
  },
  {
   "cell_type": "code",
   "execution_count": 14,
   "metadata": {},
   "outputs": [
    {
     "data": {
      "text/plain": [
       "0.0033387601094728683"
      ]
     },
     "execution_count": 14,
     "metadata": {},
     "output_type": "execute_result"
    }
   ],
   "source": [
    "np.sqrt(1.1e21/(n*1e-6))"
   ]
  },
  {
   "cell_type": "markdown",
   "metadata": {},
   "source": [
    "This would be $\\lambda = 3.3 \\text{ nm}$. To my knowledge, lasers cannot go that low in wavelength. This suggests that such a dense plasma cannot be created simply by hitting a target with a laser and letting it expand. It has to be heavily compressed."
   ]
  },
  {
   "cell_type": "markdown",
   "metadata": {},
   "source": [
    "#### Question 5 - Estimate the coupling constant $\\Gamma_{ee}$: Is the plasma strongly or weekly coupled?"
   ]
  },
  {
   "cell_type": "code",
   "execution_count": 15,
   "metadata": {},
   "outputs": [],
   "source": [
    "n = 1.2e6*np.sqrt(Y/(sigma_v*V_hs*tau))"
   ]
  },
  {
   "cell_type": "code",
   "execution_count": 16,
   "metadata": {},
   "outputs": [
    {
     "name": "stdout",
     "output_type": "stream",
     "text": [
      "0.015\n"
     ]
    }
   ],
   "source": [
    "T = Ti*1e3*sc.eV/sc.k\n",
    "gamma_ee = sc.e**2 * n**(1/3) / (4*sc.pi*sc.epsilon_0 * sc.k*T) \n",
    "sciprint(gamma_ee)"
   ]
  },
  {
   "cell_type": "markdown",
   "metadata": {},
   "source": [
    "The plasma is rather weakly coupled."
   ]
  },
  {
   "cell_type": "markdown",
   "metadata": {},
   "source": [
    "#### Question 6: Estimate the Fermi energy and compare it to $k_B T$. Are the electrons degenerate? (a nuanced answer is allowed)"
   ]
  },
  {
   "cell_type": "markdown",
   "metadata": {},
   "source": [
    "$$\n",
    "E_F \\text{ [eV]} = 7.9 \\left ( \\frac{n_e \\text{ [cm$^{-3}$]}}{10^{23}} \\right )^{2/3}\n",
    "$$"
   ]
  },
  {
   "cell_type": "code",
   "execution_count": 17,
   "metadata": {},
   "outputs": [],
   "source": [
    "n = 1.2e6*np.sqrt(Y/(sigma_v*V_hs*tau))"
   ]
  },
  {
   "cell_type": "code",
   "execution_count": 18,
   "metadata": {},
   "outputs": [
    {
     "name": "stdout",
     "output_type": "stream",
     "text": [
      "7.8e+02\n",
      "4.4e+03\n"
     ]
    }
   ],
   "source": [
    "E_F = 7.9*(n*1e-6 / 1e23)**(2/3)\n",
    "sciprint(E_F)\n",
    "\n",
    "sciprint(Ti*1e3)"
   ]
  },
  {
   "cell_type": "markdown",
   "metadata": {},
   "source": [
    "$E_F \\sim 780$ eV \n",
    "\n",
    "$k_B T \\sim 4.4$ keV\n",
    "\n",
    "$k_B T > E_F$ but not so much that the electrons can be treated classicaly."
   ]
  },
  {
   "cell_type": "markdown",
   "metadata": {},
   "source": [
    "#### Question 7: Estimate the Fermi pressure and compare it to the thermal pressure "
   ]
  },
  {
   "cell_type": "markdown",
   "metadata": {},
   "source": [
    "$$\n",
    "P_F \\text{ [Mbar]} = 0.5 \\left ( \\frac{n_e \\text{ [cm$^{-3}$]}}{10^{23}} \\right )^{5/3} \n",
    "$$"
   ]
  },
  {
   "cell_type": "code",
   "execution_count": 19,
   "metadata": {},
   "outputs": [
    {
     "name": "stdout",
     "output_type": "stream",
     "text": [
      "4.9e+10\n",
      "7e+11\n"
     ]
    }
   ],
   "source": [
    "P_F = 0.5*((n*1e-6)/1e23)**(5/3) * 1e6 #[Mbar = 10^6 Bar]\n",
    "sciprint(P_F)\n",
    "\n",
    "P_th = n*sc.k*T / 1e5 #1 bar = 10^5 Pa]\n",
    "sciprint(P_th)"
   ]
  },
  {
   "cell_type": "markdown",
   "metadata": {},
   "source": [
    "The thermal pressure ($7 \\times 10^{11}$ bars) dominates over the Fermi Pressure, which is itself not small ($5 \\times 10^{10}$ bars). \n",
    "\n",
    "This makes a very similar point to the comparison of $E_F$ and $k_B T$."
   ]
  },
  {
   "cell_type": "markdown",
   "metadata": {},
   "source": [
    "#### Question 8: Place the NIF experiment in the Temperature-Density diagram. Does this match your previous results?"
   ]
  },
  {
   "cell_type": "code",
   "execution_count": 20,
   "metadata": {},
   "outputs": [
    {
     "name": "stdout",
     "output_type": "stream",
     "text": [
      "3.6\n",
      "7.7\n"
     ]
    }
   ],
   "source": [
    "sciprint(np.log10(Ti*1e3))\n",
    "sciprint(np.log10(T))"
   ]
  },
  {
   "cell_type": "markdown",
   "metadata": {},
   "source": [
    "![title](Temperature-Density_answer.png)"
   ]
  },
  {
   "cell_type": "markdown",
   "metadata": {},
   "source": [
    "This corresponds to all of our estimations:\n",
    "\n",
    "- The plasma is pressured ionised (actually if we plotted the rest of the Saha's equation line in the domain where it is not valid, we would see that our NIF experiment is just above it. This means more than half ionised, but not necessarily completely ionised).\n",
    "- The NIF experiment is quite safely away from E(coulomb)=kT, which suggests a weak coupling\n",
    "- The plasma is just above the E(fermi)=kT line, which suggests that quantum effects may still play a role but shouldn't dominate. This fits with our estimations.\n",
    "- We are quite above the 1Gbar line, which again fits our estimations."
   ]
  }
 ],
 "metadata": {
  "kernelspec": {
   "display_name": "Python 3",
   "language": "python",
   "name": "python3"
  },
  "language_info": {
   "codemirror_mode": {
    "name": "ipython",
    "version": 3
   },
   "file_extension": ".py",
   "mimetype": "text/x-python",
   "name": "python",
   "nbconvert_exporter": "python",
   "pygments_lexer": "ipython3",
   "version": "3.8.10"
  }
 },
 "nbformat": 4,
 "nbformat_minor": 2
}
